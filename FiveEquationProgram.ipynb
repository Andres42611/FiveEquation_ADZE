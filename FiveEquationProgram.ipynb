{
 "cells": [
  {
   "cell_type": "code",
   "execution_count": null,
   "metadata": {},
   "outputs": [],
   "source": []
  },
  {
   "cell_type": "code",
   "execution_count": 31,
   "metadata": {},
   "outputs": [],
   "source": [
    "def choose(n, k):\n",
    "    if k == 0: #BASE CASE 1: choosing 0 items from n\n",
    "        return 1 #return 1 for the only way to choose 0 items from n\n",
    "    if k > n: #BASE CASE 2: choosing more items from n than n has\n",
    "        return 0 #Return 0 for not being able to choose more items than available\n",
    "    return n * choose(n - 1, k - 1) // k #Chooses first item from the set and multiplies the number of ways to choose k-1 items from the remaining n-1 items;\n",
    "                                            #integer division by k to ensure we return an integer and to only count combinations by removing the arrangement factor"
   ]
  },
  {
   "cell_type": "code",
   "execution_count": 32,
   "metadata": {},
   "outputs": [],
   "source": [
    "def generate_combinations(s, k):\n",
    "    if k == 0:  #BASE CASE 1: k=0; selecting 0 items from 's'\n",
    "        return [[]] #return nothing (no combinations)\n",
    "    elif not s: #BASE CASE 2: s=0; selecting 'k' items from an empty list\n",
    "        return [] #return nothing (no possibilities)\n",
    "    else: #RECURSIVE CASE\n",
    "        with_first = generate_combinations(s[1:], k-1) #Combinations w/ the first item; remove the first item from the list and find combinations with a decremented k by 1\n",
    "        for combo in with_first: #Loop through found combinations w/ k-1 \n",
    "            combo.append(s[0]) #Append the first element to the found combinations to make them size k\n",
    "        without_first = generate_combinations(s[1:], k)#Combinations w/o the first item; remove the first item from the list and generate combinations w/ the rest of the elements\n",
    "        return with_first + without_first #concatenate results w/ and w/o first element to get final output"
   ]
  },
  {
   "cell_type": "code",
   "execution_count": 34,
   "metadata": {},
   "outputs": [],
   "source": [
    "#No Allelic Copies Probability; Equation 1\n",
    "#Params: int matrix N, int g, int i, int j\n",
    "def q_ijg(N, g, i, j):\n",
    "    Nj = sum(allele[j] for allele in N)\n",
    "    return choose(Nj - N[i][j], g) / choose(Nj, g)"
   ]
  },
  {
   "cell_type": "code",
   "execution_count": 35,
   "metadata": {},
   "outputs": [],
   "source": [
    "#At Least One Copy Probability\n",
    "#Params: float Qijg\n",
    "def p_ijg(Qijg):\n",
    "    return 1 - Qijg"
   ]
  },
  {
   "cell_type": "code",
   "execution_count": 36,
   "metadata": {},
   "outputs": [],
   "source": [
    "#Allelic Richness; Equation 2\n",
    "#Params: int matrix N, int g, int j\n",
    "def alpha_jg(N, g, j):\n",
    "    I = len(N)\n",
    "    sum_value = 0\n",
    "    for i in range(I):\n",
    "        Qijg = q_ijg(N, g, i, j)\n",
    "        sum_value += p_ijg(Qijg)\n",
    "    return sum_value"
   ]
  },
  {
   "cell_type": "code",
   "execution_count": 37,
   "metadata": {},
   "outputs": [],
   "source": [
    "#Private Allelic Richness; Equation 3\n",
    "def pi_jg(N, g, j):\n",
    "    I,J = len(N), len(N[0])\n",
    "    sum_value = 0\n",
    "    for i in range(I):\n",
    "        Pijg = p_ijg(q_ijg(N, g, i, j))\n",
    "        product = 1\n",
    "        for j_prime in range(J):\n",
    "            if j_prime != j:\n",
    "                Qij_primeg = q_ijg(N, g, i, j_prime)\n",
    "                product *= Qij_primeg\n",
    "        sum_value += Pijg * product\n",
    "    return sum_value"
   ]
  },
  {
   "cell_type": "code",
   "execution_count": 38,
   "metadata": {},
   "outputs": [],
   "source": [
    "#Private Allelic Combinations Across Populations; Equation 4\n",
    "def pi_mgk(N, g, k, m):\n",
    "    I, J = len(N), len(N[0])\n",
    "    all_pop_combinations = generate_combinations(list(range(J)), k)\n",
    "    specific_combination = all_pop_combinations[m]\n",
    "    sum_value = 0\n",
    "    for i in range(I):\n",
    "        product_P = 1\n",
    "        for j in specific_combination:\n",
    "            Pijg = p_ijg(q_ijg(N, g, i, j))\n",
    "            product_P *= Pijg\n",
    "\n",
    "        S_without_Ckm = set(range(J)) - set(specific_combination)\n",
    "        product_Q = 1\n",
    "        for j_prime in S_without_Ckm:\n",
    "            Qij_primeg = q_ijg(N, g, i, j_prime)\n",
    "            product_Q *= Qij_primeg\n",
    "\n",
    "        sum_value += product_P * product_Q\n",
    "    return sum_value"
   ]
  },
  {
   "cell_type": "code",
   "execution_count": 39,
   "metadata": {},
   "outputs": [],
   "source": [
    "#Missing Allelic Richness; Equation 5\n",
    "def mu_jg(N, g, j):\n",
    "    I, J = len(N), len(N[0])\n",
    "    sum_value = 0\n",
    "    for i in range(I):\n",
    "        Qijg = q_ijg(N, g, i, j)\n",
    "        product = 1\n",
    "        for j_prime in range(J):\n",
    "            if j_prime != j:\n",
    "                Pij_primeg = q_ijg(N, g, i, j_prime)\n",
    "                product *= Pij_primeg\n",
    "        sum_value += Qijg * product\n",
    "    return sum_value\n"
   ]
  },
  {
   "cell_type": "code",
   "execution_count": 55,
   "metadata": {},
   "outputs": [
    {
     "name": "stdout",
     "output_type": "stream",
     "text": [
      "Alpha for j=2 and g=2: 1.6483516483516485\n",
      "Pi for j=2 and g=2: 0.44362680969823837\n",
      "Pi for m=2, g=2 and k=2: 0.35338173731030875\n",
      "Mu for j=2 and g=2: 0.819270015698587\n"
     ]
    }
   ],
   "source": [
    "# Example:\n",
    "N = [\n",
    "    [3, 2, 1],\n",
    "    [0, 3, 2],\n",
    "    [2, 0, 3],\n",
    "    [4, 3, 8]\n",
    "]\n",
    "g = 2\n",
    "k = 2\n",
    "j = 2\n",
    "m = 2  # Just a random selection for the demonstration.\n",
    "\n",
    "print(f\"Alpha for j={j} and g={g}:\", alpha_jg(N, g, j))\n",
    "print(f\"Pi for j={j} and g={g}:\", pi_jg(N, g, j))\n",
    "print(f\"Pi for m={m}, g={g} and k={k}:\", pi_mgk(N, g, k, m))\n",
    "print(f\"Mu for j={j} and g={g}:\", mu_jg(N, g, j))"
   ]
  }
 ],
 "metadata": {
  "kernelspec": {
   "display_name": "genenv",
   "language": "python",
   "name": "python3"
  },
  "language_info": {
   "codemirror_mode": {
    "name": "ipython",
    "version": 3
   },
   "file_extension": ".py",
   "mimetype": "text/x-python",
   "name": "python",
   "nbconvert_exporter": "python",
   "pygments_lexer": "ipython3",
   "version": "3.9.6"
  },
  "orig_nbformat": 4
 },
 "nbformat": 4,
 "nbformat_minor": 2
}
